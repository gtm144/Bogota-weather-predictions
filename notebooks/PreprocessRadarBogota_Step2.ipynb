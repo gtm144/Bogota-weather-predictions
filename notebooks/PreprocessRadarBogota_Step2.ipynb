{
 "cells": [
  {
   "cell_type": "markdown",
   "metadata": {},
   "source": [
    "## Put data on the input map\n",
    "After map generation, we have to parse data coming from Bogota´s weather map"
   ]
  },
  {
   "cell_type": "code",
   "execution_count": 1,
   "metadata": {},
   "outputs": [],
   "source": [
    "import json\n",
    "import pandas as pd\n",
    "from shapely.ops import cascaded_union\n",
    "from pandas.io.json import json_normalize\n",
    "from shapely.geometry import Point, Polygon\n",
    "import geopandas as gpd\n",
    "from folium import Map, Marker, GeoJson, features\n",
    "from h3 import h3\n",
    "import requests\n",
    "import zipfile\n",
    "import xmltodict, io\n",
    "import time\n",
    "import branca.colormap as cm"
   ]
  },
  {
   "cell_type": "code",
   "execution_count": 2,
   "metadata": {},
   "outputs": [
    {
     "name": "stdout",
     "output_type": "stream",
     "text": [
      "1588897057\n"
     ]
    }
   ],
   "source": [
    "# Print actual time to insert on API\n",
    "actual_time = round(time.time())\n",
    "print(actual_time)"
   ]
  },
  {
   "cell_type": "code",
   "execution_count": 3,
   "metadata": {},
   "outputs": [
    {
     "data": {
      "text/plain": [
       "OrderedDict([('kml',\n",
       "              OrderedDict([('@xmlns', 'http://earth.google.com/kml/2.2'),\n",
       "                           ('Folder',\n",
       "                            OrderedDict([('name',\n",
       "                                          '1399BOG-Intensity (Horizontal)-Mon May 4 15:09:09 2020 GMT'),\n",
       "                                         ('ExtendedData',\n",
       "                                          OrderedDict([('@xmlns:edge',\n",
       "                                                        'http://eecradar.com'),\n",
       "                                                       ('edge:Moment',\n",
       "                                                        'Intensity (Horizontal)'),\n",
       "                                                       ('edge:MomentAbbreviation',\n",
       "                                                        'ZH')])),\n",
       "                                         ('lookAt',\n",
       "                                          OrderedDict([('longitude',\n",
       "                                                        '-74.11397552490234'),\n",
       "                                                       ('latitude',\n",
       "                                                        '4.675168991088867')])),\n",
       "                                         ('GroundOverlay',\n",
       "                                          OrderedDict([('Icon',\n",
       "                                                        OrderedDict([('href',\n",
       "                                                                      '1399BOG_ZH_1588604949_1588605014.png')])),\n",
       "                                                       ('LatLonBox',\n",
       "                                                        OrderedDict([('north',\n",
       "                                                                      '5.217750127612162'),\n",
       "                                                                     ('south',\n",
       "                                                                      '4.132579471620416'),\n",
       "                                                                     ('east',\n",
       "                                                                      '-73.57319917717719'),\n",
       "                                                                     ('west',\n",
       "                                                                      '-74.65475187262749')]))]))]))]))])"
      ]
     },
     "execution_count": 3,
     "metadata": {},
     "output_type": "execute_result"
    }
   ],
   "source": [
    "# Fetch data at the actual Bogota time.\n",
    "resp = requests.get(\"http://imrad.sire.gov.co:8080/radar/reflectividad.kmz?rand=%s\" % actual_time)\n",
    "resp= zipfile.ZipFile(io.BytesIO(resp.content))\n",
    "resp.extractall('reflec')\n",
    "resp = resp.open('doc.kml', 'r').read()\n",
    "resp = xmltodict.parse(resp)\n",
    "img_radar = resp[\"kml\"][\"Folder\"][\"GroundOverlay\"][\"Icon\"][\"href\"]\n",
    "resp"
   ]
  },
  {
   "cell_type": "markdown",
   "metadata": {},
   "source": [
    "### Get Lat and long per pixel from Layer"
   ]
  },
  {
   "cell_type": "code",
   "execution_count": 4,
   "metadata": {},
   "outputs": [
    {
     "name": "stdout",
     "output_type": "stream",
     "text": [
      "Distance horizontal 1.0815526954502985 and vertical 1.085170655991746layer\n"
     ]
    }
   ],
   "source": [
    "# First, get distance for map´s latitude and longitude\n",
    "img_loc = resp[\"kml\"][\"Folder\"][\"GroundOverlay\"][\"LatLonBox\"]\n",
    "hor_loc = float(img_loc[\"east\"]) - float(img_loc[\"west\"])\n",
    "ver_loc = float(img_loc[\"north\"]) - float(img_loc[\"south\"])\n",
    "print(\"Distance horizontal \" + str(hor_loc) + \" and vertical \" + str(ver_loc) + \"layer\")"
   ]
  },
  {
   "cell_type": "code",
   "execution_count": 5,
   "metadata": {},
   "outputs": [
    {
     "name": "stdout",
     "output_type": "stream",
     "text": [
      "horisontal and vertical per pixel 0.009012939128752487, 0.009043088799931216\n"
     ]
    }
   ],
   "source": [
    "# Tranform latitud & longitude metrics in pixel sizes\n",
    "hor_pix = hor_loc/120\n",
    "ver_pix = ver_loc/120\n",
    "print(\"horisontal and vertical per pixel \" + str(hor_pix) + \", \" + str(ver_pix))"
   ]
  },
  {
   "cell_type": "code",
   "execution_count": 6,
   "metadata": {},
   "outputs": [
    {
     "data": {
      "text/html": [
       "<div>\n",
       "<style scoped>\n",
       "    .dataframe tbody tr th:only-of-type {\n",
       "        vertical-align: middle;\n",
       "    }\n",
       "\n",
       "    .dataframe tbody tr th {\n",
       "        vertical-align: top;\n",
       "    }\n",
       "\n",
       "    .dataframe thead th {\n",
       "        text-align: right;\n",
       "    }\n",
       "</style>\n",
       "<table border=\"1\" class=\"dataframe\">\n",
       "  <thead>\n",
       "    <tr style=\"text-align: right;\">\n",
       "      <th></th>\n",
       "      <th>type</th>\n",
       "      <th>id</th>\n",
       "      <th>geometry</th>\n",
       "      <th>properties</th>\n",
       "    </tr>\n",
       "  </thead>\n",
       "  <tbody>\n",
       "    <tr>\n",
       "      <th>0</th>\n",
       "      <td>Feature</td>\n",
       "      <td>8866e46669fffff</td>\n",
       "      <td>{'type': 'Polygon', 'coordinates': [[[-74.2457...</td>\n",
       "      <td>{'value': 0}</td>\n",
       "    </tr>\n",
       "    <tr>\n",
       "      <th>1</th>\n",
       "      <td>Feature</td>\n",
       "      <td>8866e43369fffff</td>\n",
       "      <td>{'type': 'Polygon', 'coordinates': [[[-74.0036...</td>\n",
       "      <td>{'value': 0}</td>\n",
       "    </tr>\n",
       "  </tbody>\n",
       "</table>\n",
       "</div>"
      ],
      "text/plain": [
       "      type               id  \\\n",
       "0  Feature  8866e46669fffff   \n",
       "1  Feature  8866e43369fffff   \n",
       "\n",
       "                                            geometry    properties  \n",
       "0  {'type': 'Polygon', 'coordinates': [[[-74.2457...  {'value': 0}  \n",
       "1  {'type': 'Polygon', 'coordinates': [[[-74.0036...  {'value': 0}  "
      ]
     },
     "execution_count": 6,
     "metadata": {},
     "output_type": "execute_result"
    }
   ],
   "source": [
    "# Get data from notebook part 1\n",
    "with open('source/map_area_hex8.json') as f:\n",
    "    bogota_hex8 = json.load(f)\n",
    "bogota_hex = json.loads(bogota_hex8)\n",
    "bogota_hex =  gpd.GeoDataFrame(bogota_hex['features'])\n",
    "bogota_hex.head(2)"
   ]
  },
  {
   "cell_type": "code",
   "execution_count": 7,
   "metadata": {},
   "outputs": [
    {
     "data": {
      "text/html": [
       "<div>\n",
       "<style scoped>\n",
       "    .dataframe tbody tr th:only-of-type {\n",
       "        vertical-align: middle;\n",
       "    }\n",
       "\n",
       "    .dataframe tbody tr th {\n",
       "        vertical-align: top;\n",
       "    }\n",
       "\n",
       "    .dataframe thead th {\n",
       "        text-align: right;\n",
       "    }\n",
       "</style>\n",
       "<table border=\"1\" class=\"dataframe\">\n",
       "  <thead>\n",
       "    <tr style=\"text-align: right;\">\n",
       "      <th></th>\n",
       "      <th>type</th>\n",
       "      <th>id</th>\n",
       "      <th>geometry</th>\n",
       "      <th>properties</th>\n",
       "      <th>centroid</th>\n",
       "    </tr>\n",
       "  </thead>\n",
       "  <tbody>\n",
       "    <tr>\n",
       "      <th>0</th>\n",
       "      <td>Feature</td>\n",
       "      <td>8866e46669fffff</td>\n",
       "      <td>{'type': 'Polygon', 'coordinates': [[[-74.2457...</td>\n",
       "      <td>{'value': 0}</td>\n",
       "      <td>[4.770617585672407, -74.24528195485323]</td>\n",
       "    </tr>\n",
       "    <tr>\n",
       "      <th>1</th>\n",
       "      <td>Feature</td>\n",
       "      <td>8866e43369fffff</td>\n",
       "      <td>{'type': 'Polygon', 'coordinates': [[[-74.0036...</td>\n",
       "      <td>{'value': 0}</td>\n",
       "      <td>[5.040572085984343, -74.00316457955307]</td>\n",
       "    </tr>\n",
       "  </tbody>\n",
       "</table>\n",
       "</div>"
      ],
      "text/plain": [
       "      type               id  \\\n",
       "0  Feature  8866e46669fffff   \n",
       "1  Feature  8866e43369fffff   \n",
       "\n",
       "                                            geometry    properties  \\\n",
       "0  {'type': 'Polygon', 'coordinates': [[[-74.2457...  {'value': 0}   \n",
       "1  {'type': 'Polygon', 'coordinates': [[[-74.0036...  {'value': 0}   \n",
       "\n",
       "                                  centroid  \n",
       "0  [4.770617585672407, -74.24528195485323]  \n",
       "1  [5.040572085984343, -74.00316457955307]  "
      ]
     },
     "execution_count": 7,
     "metadata": {},
     "output_type": "execute_result"
    }
   ],
   "source": [
    "bogota_hex['centroid'] = bogota_hex['id'].map(lambda x: h3.h3_to_geo(x))\n",
    "bogota_hex.head(2)"
   ]
  },
  {
   "cell_type": "markdown",
   "metadata": {},
   "source": [
    "### Map Centroids with Image pixels"
   ]
  },
  {
   "cell_type": "code",
   "execution_count": 8,
   "metadata": {},
   "outputs": [],
   "source": [
    "# Get pixel x, y coordinates from a geolocation list\n",
    "def getPixels_xy(_list):\n",
    "    img_x_axis = _list[1] - float(img_loc[\"east\"])\n",
    "    img_y_axis = float(img_loc[\"north\"]) - _list[0]\n",
    "    return [round(img_x_axis/hor_pix), round(img_y_axis/ver_pix)]"
   ]
  },
  {
   "cell_type": "code",
   "execution_count": 9,
   "metadata": {},
   "outputs": [],
   "source": [
    "# Returns RGB colors from input pixel position \n",
    "def pixFunction(_list):\n",
    "    try: return pix[_list[0],_list[1]]\n",
    "    except: return (0,0,0,0)"
   ]
  },
  {
   "cell_type": "code",
   "execution_count": 10,
   "metadata": {},
   "outputs": [
    {
     "data": {
      "text/html": [
       "<div>\n",
       "<style scoped>\n",
       "    .dataframe tbody tr th:only-of-type {\n",
       "        vertical-align: middle;\n",
       "    }\n",
       "\n",
       "    .dataframe tbody tr th {\n",
       "        vertical-align: top;\n",
       "    }\n",
       "\n",
       "    .dataframe thead th {\n",
       "        text-align: right;\n",
       "    }\n",
       "</style>\n",
       "<table border=\"1\" class=\"dataframe\">\n",
       "  <thead>\n",
       "    <tr style=\"text-align: right;\">\n",
       "      <th></th>\n",
       "      <th>type</th>\n",
       "      <th>id</th>\n",
       "      <th>geometry</th>\n",
       "      <th>properties</th>\n",
       "      <th>centroid</th>\n",
       "      <th>pixel_coord</th>\n",
       "      <th>coordinates</th>\n",
       "      <th>rgb</th>\n",
       "    </tr>\n",
       "  </thead>\n",
       "  <tbody>\n",
       "    <tr>\n",
       "      <th>0</th>\n",
       "      <td>Feature</td>\n",
       "      <td>8866e46669fffff</td>\n",
       "      <td>{'type': 'Polygon', 'coordinates': [[[-74.2457...</td>\n",
       "      <td>{'value': 0}</td>\n",
       "      <td>[4.770617585672407, -74.24528195485323]</td>\n",
       "      <td>[-75, 49]</td>\n",
       "      <td>[[[-74.24579744928519, 4.77546513454456], [-74...</td>\n",
       "      <td>(0, 0, 0)</td>\n",
       "    </tr>\n",
       "    <tr>\n",
       "      <th>1</th>\n",
       "      <td>Feature</td>\n",
       "      <td>8866e43369fffff</td>\n",
       "      <td>{'type': 'Polygon', 'coordinates': [[[-74.0036...</td>\n",
       "      <td>{'value': 0}</td>\n",
       "      <td>[5.040572085984343, -74.00316457955307]</td>\n",
       "      <td>[-48, 20]</td>\n",
       "      <td>[[[-74.00368257676763, 5.045404510361257], [-7...</td>\n",
       "      <td>(0, 0, 0)</td>\n",
       "    </tr>\n",
       "  </tbody>\n",
       "</table>\n",
       "</div>"
      ],
      "text/plain": [
       "      type               id  \\\n",
       "0  Feature  8866e46669fffff   \n",
       "1  Feature  8866e43369fffff   \n",
       "\n",
       "                                            geometry    properties  \\\n",
       "0  {'type': 'Polygon', 'coordinates': [[[-74.2457...  {'value': 0}   \n",
       "1  {'type': 'Polygon', 'coordinates': [[[-74.0036...  {'value': 0}   \n",
       "\n",
       "                                  centroid pixel_coord  \\\n",
       "0  [4.770617585672407, -74.24528195485323]   [-75, 49]   \n",
       "1  [5.040572085984343, -74.00316457955307]   [-48, 20]   \n",
       "\n",
       "                                         coordinates        rgb  \n",
       "0  [[[-74.24579744928519, 4.77546513454456], [-74...  (0, 0, 0)  \n",
       "1  [[[-74.00368257676763, 5.045404510361257], [-7...  (0, 0, 0)  "
      ]
     },
     "execution_count": 10,
     "metadata": {},
     "output_type": "execute_result"
    }
   ],
   "source": [
    "# Write CSV with pixel image on map geolocation\n",
    "bogota_hex['pixel_coord'] = bogota_hex['centroid'].map(lambda x: getPixels_xy(x))\n",
    "bogota_hex[\"coordinates\"] = bogota_hex[\"geometry\"].map(lambda x: x[\"coordinates\"])\n",
    "bogota_hex['rgb'] = bogota_hex['pixel_coord'].map(lambda x: pixFunction(x)[:3])\n",
    "bogota_hex.head(2)"
   ]
  },
  {
   "cell_type": "code",
   "execution_count": 11,
   "metadata": {},
   "outputs": [],
   "source": [
    "# Define value levels by researching different RGB colors\n",
    "def rgbtoRain(_tuple):\n",
    "    a=0\n",
    "    if _tuple[0] < 130 and _tuple[1] < 130 and _tuple[2] < 130: a = 0\n",
    "    if _tuple[0] > 130 and _tuple[1] > 130 and _tuple[2] > 130: a = 0\n",
    "    if _tuple[0] < 130 and _tuple[1] > 130 and _tuple[2] > 130: a = 1\n",
    "    if _tuple[0] < 130 and _tuple[1] > 130 and _tuple[2] < 130: a = 2\n",
    "    if _tuple[0] > 130 and _tuple[1] > 130 and _tuple[2] < 130: a = 3\n",
    "    if _tuple[0] > 130 and _tuple[1] < 130 and _tuple[2] < 130: a = 4\n",
    "    return a"
   ]
  },
  {
   "cell_type": "code",
   "execution_count": 12,
   "metadata": {},
   "outputs": [],
   "source": [
    "def hexagons_dataframe_to_geojson(df_hex, file_output = None):\n",
    "    \n",
    "    '''Produce the GeoJSON for a dataframe that has a geometry column in geojson format already, along with the columns hex_id and value '''\n",
    "    \n",
    "    list_features = []\n",
    "    \n",
    "    for i,row in df_hex.iterrows():\n",
    "        feature = Feature(geometry = {'type': 'Polygon', 'coordinates': row[\"coordinates\"]}  , id=row[\"id\"], properties = {\"value\" : row[\"rain_level\"]})\n",
    "        list_features.append(feature)\n",
    "        \n",
    "    feat_collection = FeatureCollection(list_features)\n",
    "    \n",
    "    geojson_result = json.dumps(feat_collection)\n",
    "    \n",
    "    #optionally write to file\n",
    "    if file_output is not None:\n",
    "        with open(file_output,\"w\") as f:\n",
    "            json.dump(feat_collection,f)\n",
    "    \n",
    "    return geojson_result"
   ]
  },
  {
   "cell_type": "code",
   "execution_count": 13,
   "metadata": {},
   "outputs": [
    {
     "data": {
      "text/html": [
       "<div>\n",
       "<style scoped>\n",
       "    .dataframe tbody tr th:only-of-type {\n",
       "        vertical-align: middle;\n",
       "    }\n",
       "\n",
       "    .dataframe tbody tr th {\n",
       "        vertical-align: top;\n",
       "    }\n",
       "\n",
       "    .dataframe thead th {\n",
       "        text-align: right;\n",
       "    }\n",
       "</style>\n",
       "<table border=\"1\" class=\"dataframe\">\n",
       "  <thead>\n",
       "    <tr style=\"text-align: right;\">\n",
       "      <th></th>\n",
       "      <th>type</th>\n",
       "      <th>id</th>\n",
       "      <th>geometry</th>\n",
       "      <th>properties</th>\n",
       "      <th>centroid</th>\n",
       "      <th>pixel_coord</th>\n",
       "      <th>coordinates</th>\n",
       "      <th>rgb</th>\n",
       "      <th>rain_level</th>\n",
       "    </tr>\n",
       "  </thead>\n",
       "  <tbody>\n",
       "    <tr>\n",
       "      <th>0</th>\n",
       "      <td>Feature</td>\n",
       "      <td>8866e46669fffff</td>\n",
       "      <td>{'type': 'Polygon', 'coordinates': [[[-74.2457...</td>\n",
       "      <td>{'value': 0}</td>\n",
       "      <td>[4.770617585672407, -74.24528195485323]</td>\n",
       "      <td>[-75, 49]</td>\n",
       "      <td>[[[-74.24579744928519, 4.77546513454456], [-74...</td>\n",
       "      <td>(0, 0, 0)</td>\n",
       "      <td>0</td>\n",
       "    </tr>\n",
       "    <tr>\n",
       "      <th>1</th>\n",
       "      <td>Feature</td>\n",
       "      <td>8866e43369fffff</td>\n",
       "      <td>{'type': 'Polygon', 'coordinates': [[[-74.0036...</td>\n",
       "      <td>{'value': 0}</td>\n",
       "      <td>[5.040572085984343, -74.00316457955307]</td>\n",
       "      <td>[-48, 20]</td>\n",
       "      <td>[[[-74.00368257676763, 5.045404510361257], [-7...</td>\n",
       "      <td>(0, 0, 0)</td>\n",
       "      <td>0</td>\n",
       "    </tr>\n",
       "  </tbody>\n",
       "</table>\n",
       "</div>"
      ],
      "text/plain": [
       "      type               id  \\\n",
       "0  Feature  8866e46669fffff   \n",
       "1  Feature  8866e43369fffff   \n",
       "\n",
       "                                            geometry    properties  \\\n",
       "0  {'type': 'Polygon', 'coordinates': [[[-74.2457...  {'value': 0}   \n",
       "1  {'type': 'Polygon', 'coordinates': [[[-74.0036...  {'value': 0}   \n",
       "\n",
       "                                  centroid pixel_coord  \\\n",
       "0  [4.770617585672407, -74.24528195485323]   [-75, 49]   \n",
       "1  [5.040572085984343, -74.00316457955307]   [-48, 20]   \n",
       "\n",
       "                                         coordinates        rgb  rain_level  \n",
       "0  [[[-74.24579744928519, 4.77546513454456], [-74...  (0, 0, 0)           0  \n",
       "1  [[[-74.00368257676763, 5.045404510361257], [-7...  (0, 0, 0)           0  "
      ]
     },
     "execution_count": 13,
     "metadata": {},
     "output_type": "execute_result"
    }
   ],
   "source": [
    "bogota_hex['rain_level'] = bogota_hex['rgb'].map(lambda x: rgbtoRain(x))\n",
    "bogota_hex.head(2)"
   ]
  },
  {
   "cell_type": "code",
   "execution_count": 14,
   "metadata": {},
   "outputs": [
    {
     "ename": "NameError",
     "evalue": "name 'Feature' is not defined",
     "output_type": "error",
     "traceback": [
      "\u001b[0;31m---------------------------------------------------------------------------\u001b[0m",
      "\u001b[0;31mNameError\u001b[0m                                 Traceback (most recent call last)",
      "\u001b[0;32m<ipython-input-14-1621e7808cba>\u001b[0m in \u001b[0;36m<module>\u001b[0;34m\u001b[0m\n\u001b[1;32m      1\u001b[0m \u001b[0;32mimport\u001b[0m \u001b[0mbranca\u001b[0m\u001b[0;34m.\u001b[0m\u001b[0mcolormap\u001b[0m \u001b[0;32mas\u001b[0m \u001b[0mcm\u001b[0m\u001b[0;34m\u001b[0m\u001b[0;34m\u001b[0m\u001b[0m\n\u001b[0;32m----> 2\u001b[0;31m \u001b[0mgeo\u001b[0m \u001b[0;34m=\u001b[0m \u001b[0mhexagons_dataframe_to_geojson\u001b[0m\u001b[0;34m(\u001b[0m\u001b[0mbogota_hex\u001b[0m\u001b[0;34m)\u001b[0m\u001b[0;34m\u001b[0m\u001b[0;34m\u001b[0m\u001b[0m\n\u001b[0m\u001b[1;32m      3\u001b[0m \u001b[0;34m\u001b[0m\u001b[0m\n\u001b[1;32m      4\u001b[0m \u001b[0mcustom_cm\u001b[0m \u001b[0;34m=\u001b[0m \u001b[0mcm\u001b[0m\u001b[0;34m.\u001b[0m\u001b[0mLinearColormap\u001b[0m\u001b[0;34m(\u001b[0m\u001b[0;34m[\u001b[0m\u001b[0;34m'white'\u001b[0m\u001b[0;34m,\u001b[0m\u001b[0;34m'red'\u001b[0m\u001b[0;34m,\u001b[0m \u001b[0;34m'blue'\u001b[0m\u001b[0;34m,\u001b[0m \u001b[0;34m'green'\u001b[0m\u001b[0;34m]\u001b[0m\u001b[0;34m,\u001b[0m \u001b[0mvmin\u001b[0m\u001b[0;34m=\u001b[0m\u001b[0;36m0\u001b[0m\u001b[0;34m,\u001b[0m \u001b[0mvmax\u001b[0m\u001b[0;34m=\u001b[0m\u001b[0;36m4\u001b[0m\u001b[0;34m)\u001b[0m\u001b[0;34m\u001b[0m\u001b[0;34m\u001b[0m\u001b[0m\n\u001b[1;32m      5\u001b[0m \u001b[0;34m\u001b[0m\u001b[0m\n",
      "\u001b[0;32m<ipython-input-12-2d93f1b370f3>\u001b[0m in \u001b[0;36mhexagons_dataframe_to_geojson\u001b[0;34m(df_hex, file_output)\u001b[0m\n\u001b[1;32m      6\u001b[0m \u001b[0;34m\u001b[0m\u001b[0m\n\u001b[1;32m      7\u001b[0m     \u001b[0;32mfor\u001b[0m \u001b[0mi\u001b[0m\u001b[0;34m,\u001b[0m\u001b[0mrow\u001b[0m \u001b[0;32min\u001b[0m \u001b[0mdf_hex\u001b[0m\u001b[0;34m.\u001b[0m\u001b[0miterrows\u001b[0m\u001b[0;34m(\u001b[0m\u001b[0;34m)\u001b[0m\u001b[0;34m:\u001b[0m\u001b[0;34m\u001b[0m\u001b[0;34m\u001b[0m\u001b[0m\n\u001b[0;32m----> 8\u001b[0;31m         \u001b[0mfeature\u001b[0m \u001b[0;34m=\u001b[0m \u001b[0mFeature\u001b[0m\u001b[0;34m(\u001b[0m\u001b[0mgeometry\u001b[0m \u001b[0;34m=\u001b[0m \u001b[0;34m{\u001b[0m\u001b[0;34m'type'\u001b[0m\u001b[0;34m:\u001b[0m \u001b[0;34m'Polygon'\u001b[0m\u001b[0;34m,\u001b[0m \u001b[0;34m'coordinates'\u001b[0m\u001b[0;34m:\u001b[0m \u001b[0mrow\u001b[0m\u001b[0;34m[\u001b[0m\u001b[0;34m\"coordinates\"\u001b[0m\u001b[0;34m]\u001b[0m\u001b[0;34m}\u001b[0m  \u001b[0;34m,\u001b[0m \u001b[0mid\u001b[0m\u001b[0;34m=\u001b[0m\u001b[0mrow\u001b[0m\u001b[0;34m[\u001b[0m\u001b[0;34m\"id\"\u001b[0m\u001b[0;34m]\u001b[0m\u001b[0;34m,\u001b[0m \u001b[0mproperties\u001b[0m \u001b[0;34m=\u001b[0m \u001b[0;34m{\u001b[0m\u001b[0;34m\"value\"\u001b[0m \u001b[0;34m:\u001b[0m \u001b[0mrow\u001b[0m\u001b[0;34m[\u001b[0m\u001b[0;34m\"rain_level\"\u001b[0m\u001b[0;34m]\u001b[0m\u001b[0;34m}\u001b[0m\u001b[0;34m)\u001b[0m\u001b[0;34m\u001b[0m\u001b[0;34m\u001b[0m\u001b[0m\n\u001b[0m\u001b[1;32m      9\u001b[0m         \u001b[0mlist_features\u001b[0m\u001b[0;34m.\u001b[0m\u001b[0mappend\u001b[0m\u001b[0;34m(\u001b[0m\u001b[0mfeature\u001b[0m\u001b[0;34m)\u001b[0m\u001b[0;34m\u001b[0m\u001b[0;34m\u001b[0m\u001b[0m\n\u001b[1;32m     10\u001b[0m \u001b[0;34m\u001b[0m\u001b[0m\n",
      "\u001b[0;31mNameError\u001b[0m: name 'Feature' is not defined"
     ]
    }
   ],
   "source": [
    "import branca.colormap as cm\n",
    "geo = hexagons_dataframe_to_geojson(bogota_hex)\n",
    "\n",
    "custom_cm = cm.LinearColormap(['white','red', 'blue', 'green'], vmin=0, vmax=4)\n",
    "    \n",
    "mapa_bogota = Map(location= [4.626853707360377,-74.0682993486343], zoom_start=11, \n",
    "                attr= '© <a href=\"http://www.openstreetmap.org/copyright\">OpenStreetMap</a> contributors © <a href=\"http://cartodb.com/attributions#basemaps\">CartoDB</a>' \n",
    "            )\n",
    "\n",
    "\n",
    "GeoJson(\n",
    "        geo,\n",
    "        style_function=lambda feature: {\n",
    "            'fillColor': custom_cm(feature['properties']['value']),\n",
    "            'color': custom_cm(feature['properties']['value']),\n",
    "            'weight': 1,\n",
    "            'fillOpacity': 0.1\n",
    "        }, \n",
    "        name = \"Hexagons_b\" \n",
    "    ).add_to(mapa_bogota)\n",
    "\n",
    "mapa_bogota"
   ]
  }
 ],
 "metadata": {
  "kernelspec": {
   "display_name": "Python 3",
   "language": "python",
   "name": "python3"
  },
  "language_info": {
   "codemirror_mode": {
    "name": "ipython",
    "version": 3
   },
   "file_extension": ".py",
   "mimetype": "text/x-python",
   "name": "python",
   "nbconvert_exporter": "python",
   "pygments_lexer": "ipython3",
   "version": "3.7.3"
  }
 },
 "nbformat": 4,
 "nbformat_minor": 4
}
