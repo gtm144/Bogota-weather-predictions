{
 "cells": [
  {
   "cell_type": "code",
   "execution_count": 2,
   "metadata": {},
   "outputs": [],
   "source": [
    "import json\n",
    "import pandas as pd\n",
    "from shapely.ops import cascaded_union\n",
    "from pandas.io.json import json_normalize\n",
    "from shapely.geometry import Point, Polygon\n",
    "import geopandas as gpd\n",
    "from folium import Map, Marker, GeoJson\n",
    "from h3 import h3\n",
    "import requests\n",
    "from zipfile import ZipFile"
   ]
  },
  {
   "cell_type": "code",
   "execution_count": 21,
   "metadata": {},
   "outputs": [
    {
     "ename": "ModuleNotFoundError",
     "evalue": "No module named 'osgeo'",
     "output_type": "error",
     "traceback": [
      "\u001b[0;31m---------------------------------------------------------------------------\u001b[0m",
      "\u001b[0;31mModuleNotFoundError\u001b[0m                       Traceback (most recent call last)",
      "\u001b[0;32m<ipython-input-21-6cc75418a4ef>\u001b[0m in \u001b[0;36m<module>\u001b[0;34m\u001b[0m\n\u001b[1;32m      1\u001b[0m \u001b[0;32mimport\u001b[0m \u001b[0mzipfile\u001b[0m\u001b[0;34m,\u001b[0m \u001b[0mio\u001b[0m\u001b[0;34m\u001b[0m\u001b[0;34m\u001b[0m\u001b[0m\n\u001b[0;32m----> 2\u001b[0;31m \u001b[0;32mfrom\u001b[0m \u001b[0mosgeo\u001b[0m \u001b[0;32mimport\u001b[0m \u001b[0mgdal\u001b[0m\u001b[0;34m,\u001b[0m \u001b[0mogr\u001b[0m\u001b[0;34m\u001b[0m\u001b[0;34m\u001b[0m\u001b[0m\n\u001b[0m",
      "\u001b[0;31mModuleNotFoundError\u001b[0m: No module named 'osgeo'"
     ]
    }
   ],
   "source": [
    "import zipfile, io\n",
    "#from osgeo import gdal, ogr"
   ]
  },
  {
   "cell_type": "code",
   "execution_count": 37,
   "metadata": {},
   "outputs": [],
   "source": [
    "import zipfile, io\n",
    "resp = requests.get(\"http://imrad.sire.gov.co:8080/radar/reflectividad.kmz?rand=1587262574681\")\n",
    "z = zipfile.ZipFile(io.BytesIO(resp.content))\n",
    "z.extractall()"
   ]
  },
  {
   "cell_type": "code",
   "execution_count": 16,
   "metadata": {},
   "outputs": [
    {
     "ename": "ModuleNotFoundError",
     "evalue": "No module named 'urllib2'",
     "output_type": "error",
     "traceback": [
      "\u001b[0;31m---------------------------------------------------------------------------\u001b[0m",
      "\u001b[0;31mModuleNotFoundError\u001b[0m                       Traceback (most recent call last)",
      "\u001b[0;32m<ipython-input-16-4866e0995e4f>\u001b[0m in \u001b[0;36m<module>\u001b[0;34m\u001b[0m\n\u001b[1;32m      1\u001b[0m \u001b[0;32mfrom\u001b[0m \u001b[0mpykml\u001b[0m\u001b[0;34m.\u001b[0m\u001b[0mfactory\u001b[0m \u001b[0;32mimport\u001b[0m \u001b[0mwrite_python_script_for_kml_document\u001b[0m\u001b[0;34m\u001b[0m\u001b[0;34m\u001b[0m\u001b[0m\n\u001b[0;32m----> 2\u001b[0;31m \u001b[0;32mimport\u001b[0m \u001b[0murllib2\u001b[0m\u001b[0;34m\u001b[0m\u001b[0;34m\u001b[0m\u001b[0m\n\u001b[0m\u001b[1;32m      3\u001b[0m \u001b[0;34m\u001b[0m\u001b[0m\n\u001b[1;32m      4\u001b[0m \u001b[0murl\u001b[0m \u001b[0;34m=\u001b[0m \u001b[0;34m'http://imrad.sire.gov.co:8080/radar/reflectividad.kmz?rand=1587262574681'\u001b[0m\u001b[0;34m\u001b[0m\u001b[0;34m\u001b[0m\u001b[0m\n\u001b[1;32m      5\u001b[0m \u001b[0mfileobject\u001b[0m \u001b[0;34m=\u001b[0m \u001b[0murllib2\u001b[0m\u001b[0;34m.\u001b[0m\u001b[0murlopen\u001b[0m\u001b[0;34m(\u001b[0m\u001b[0murl\u001b[0m\u001b[0;34m)\u001b[0m\u001b[0;34m\u001b[0m\u001b[0;34m\u001b[0m\u001b[0m\n",
      "\u001b[0;31mModuleNotFoundError\u001b[0m: No module named 'urllib2'"
     ]
    }
   ],
   "source": [
    "from pykml.factory import write_python_script_for_kml_document\n",
    "import urllib2\n",
    "\n",
    "url = 'http://imrad.sire.gov.co:8080/radar/reflectividad.kmz?rand=1587262574681'\n",
    "fileobject = urllib2.urlopen(url)\n",
    "doc = parser.parse(fileobject).getroot()\n",
    "script = write_python_script_for_kml_document(doc)\n",
    "script"
   ]
  },
  {
   "cell_type": "code",
   "execution_count": 36,
   "metadata": {},
   "outputs": [
    {
     "ename": "AttributeError",
     "evalue": "'bytes' object has no attribute 'seek'",
     "output_type": "error",
     "traceback": [
      "\u001b[0;31m---------------------------------------------------------------------------\u001b[0m",
      "\u001b[0;31mAttributeError\u001b[0m                            Traceback (most recent call last)",
      "\u001b[0;32m<ipython-input-36-f03b6a533280>\u001b[0m in \u001b[0;36m<module>\u001b[0;34m\u001b[0m\n\u001b[1;32m      1\u001b[0m \u001b[0mresp\u001b[0m \u001b[0;34m=\u001b[0m \u001b[0mrequests\u001b[0m\u001b[0;34m.\u001b[0m\u001b[0mget\u001b[0m\u001b[0;34m(\u001b[0m\u001b[0;34m\"http://imrad.sire.gov.co:8080/radar/reflectividad.kmz?rand=1587262574681\"\u001b[0m\u001b[0;34m)\u001b[0m\u001b[0;34m\u001b[0m\u001b[0;34m\u001b[0m\u001b[0m\n\u001b[0;32m----> 2\u001b[0;31m \u001b[0mkmz\u001b[0m \u001b[0;34m=\u001b[0m \u001b[0mZipFile\u001b[0m\u001b[0;34m(\u001b[0m\u001b[0mresp\u001b[0m\u001b[0;34m.\u001b[0m\u001b[0mcontent\u001b[0m\u001b[0;34m)\u001b[0m\u001b[0;34m\u001b[0m\u001b[0;34m\u001b[0m\u001b[0m\n\u001b[0m\u001b[1;32m      3\u001b[0m \u001b[0mkml\u001b[0m \u001b[0;34m=\u001b[0m \u001b[0mkmz\u001b[0m\u001b[0;34m.\u001b[0m\u001b[0mopen\u001b[0m\u001b[0;34m(\u001b[0m\u001b[0;34m'doc.kml'\u001b[0m\u001b[0;34m,\u001b[0m \u001b[0;34m'r'\u001b[0m\u001b[0;34m)\u001b[0m\u001b[0;34m.\u001b[0m\u001b[0mread\u001b[0m\u001b[0;34m(\u001b[0m\u001b[0;34m)\u001b[0m\u001b[0;34m\u001b[0m\u001b[0;34m\u001b[0m\u001b[0m\n\u001b[1;32m      4\u001b[0m \u001b[0md\u001b[0m \u001b[0;34m=\u001b[0m \u001b[0mstr\u001b[0m\u001b[0;34m(\u001b[0m\u001b[0mkml\u001b[0m\u001b[0;34m,\u001b[0m \u001b[0;34m'utf-8'\u001b[0m\u001b[0;34m)\u001b[0m\u001b[0;34m\u001b[0m\u001b[0;34m\u001b[0m\u001b[0m\n\u001b[1;32m      5\u001b[0m \u001b[0md\u001b[0m\u001b[0;34m\u001b[0m\u001b[0;34m\u001b[0m\u001b[0m\n",
      "\u001b[0;32m/usr/lib/python3.7/zipfile.py\u001b[0m in \u001b[0;36m__init__\u001b[0;34m(self, file, mode, compression, allowZip64, compresslevel)\u001b[0m\n\u001b[1;32m   1220\u001b[0m         \u001b[0;32mtry\u001b[0m\u001b[0;34m:\u001b[0m\u001b[0;34m\u001b[0m\u001b[0;34m\u001b[0m\u001b[0m\n\u001b[1;32m   1221\u001b[0m             \u001b[0;32mif\u001b[0m \u001b[0mmode\u001b[0m \u001b[0;34m==\u001b[0m \u001b[0;34m'r'\u001b[0m\u001b[0;34m:\u001b[0m\u001b[0;34m\u001b[0m\u001b[0;34m\u001b[0m\u001b[0m\n\u001b[0;32m-> 1222\u001b[0;31m                 \u001b[0mself\u001b[0m\u001b[0;34m.\u001b[0m\u001b[0m_RealGetContents\u001b[0m\u001b[0;34m(\u001b[0m\u001b[0;34m)\u001b[0m\u001b[0;34m\u001b[0m\u001b[0;34m\u001b[0m\u001b[0m\n\u001b[0m\u001b[1;32m   1223\u001b[0m             \u001b[0;32melif\u001b[0m \u001b[0mmode\u001b[0m \u001b[0;32min\u001b[0m \u001b[0;34m(\u001b[0m\u001b[0;34m'w'\u001b[0m\u001b[0;34m,\u001b[0m \u001b[0;34m'x'\u001b[0m\u001b[0;34m)\u001b[0m\u001b[0;34m:\u001b[0m\u001b[0;34m\u001b[0m\u001b[0;34m\u001b[0m\u001b[0m\n\u001b[1;32m   1224\u001b[0m                 \u001b[0;31m# set the modified flag so central directory gets written\u001b[0m\u001b[0;34m\u001b[0m\u001b[0;34m\u001b[0m\u001b[0;34m\u001b[0m\u001b[0m\n",
      "\u001b[0;32m/usr/lib/python3.7/zipfile.py\u001b[0m in \u001b[0;36m_RealGetContents\u001b[0;34m(self)\u001b[0m\n\u001b[1;32m   1283\u001b[0m         \u001b[0mfp\u001b[0m \u001b[0;34m=\u001b[0m \u001b[0mself\u001b[0m\u001b[0;34m.\u001b[0m\u001b[0mfp\u001b[0m\u001b[0;34m\u001b[0m\u001b[0;34m\u001b[0m\u001b[0m\n\u001b[1;32m   1284\u001b[0m         \u001b[0;32mtry\u001b[0m\u001b[0;34m:\u001b[0m\u001b[0;34m\u001b[0m\u001b[0;34m\u001b[0m\u001b[0m\n\u001b[0;32m-> 1285\u001b[0;31m             \u001b[0mendrec\u001b[0m \u001b[0;34m=\u001b[0m \u001b[0m_EndRecData\u001b[0m\u001b[0;34m(\u001b[0m\u001b[0mfp\u001b[0m\u001b[0;34m)\u001b[0m\u001b[0;34m\u001b[0m\u001b[0;34m\u001b[0m\u001b[0m\n\u001b[0m\u001b[1;32m   1286\u001b[0m         \u001b[0;32mexcept\u001b[0m \u001b[0mOSError\u001b[0m\u001b[0;34m:\u001b[0m\u001b[0;34m\u001b[0m\u001b[0;34m\u001b[0m\u001b[0m\n\u001b[1;32m   1287\u001b[0m             \u001b[0;32mraise\u001b[0m \u001b[0mBadZipFile\u001b[0m\u001b[0;34m(\u001b[0m\u001b[0;34m\"File is not a zip file\"\u001b[0m\u001b[0;34m)\u001b[0m\u001b[0;34m\u001b[0m\u001b[0;34m\u001b[0m\u001b[0m\n",
      "\u001b[0;32m/usr/lib/python3.7/zipfile.py\u001b[0m in \u001b[0;36m_EndRecData\u001b[0;34m(fpin)\u001b[0m\n\u001b[1;32m    257\u001b[0m \u001b[0;34m\u001b[0m\u001b[0m\n\u001b[1;32m    258\u001b[0m     \u001b[0;31m# Determine file size\u001b[0m\u001b[0;34m\u001b[0m\u001b[0;34m\u001b[0m\u001b[0;34m\u001b[0m\u001b[0m\n\u001b[0;32m--> 259\u001b[0;31m     \u001b[0mfpin\u001b[0m\u001b[0;34m.\u001b[0m\u001b[0mseek\u001b[0m\u001b[0;34m(\u001b[0m\u001b[0;36m0\u001b[0m\u001b[0;34m,\u001b[0m \u001b[0;36m2\u001b[0m\u001b[0;34m)\u001b[0m\u001b[0;34m\u001b[0m\u001b[0;34m\u001b[0m\u001b[0m\n\u001b[0m\u001b[1;32m    260\u001b[0m     \u001b[0mfilesize\u001b[0m \u001b[0;34m=\u001b[0m \u001b[0mfpin\u001b[0m\u001b[0;34m.\u001b[0m\u001b[0mtell\u001b[0m\u001b[0;34m(\u001b[0m\u001b[0;34m)\u001b[0m\u001b[0;34m\u001b[0m\u001b[0;34m\u001b[0m\u001b[0m\n\u001b[1;32m    261\u001b[0m \u001b[0;34m\u001b[0m\u001b[0m\n",
      "\u001b[0;31mAttributeError\u001b[0m: 'bytes' object has no attribute 'seek'"
     ]
    }
   ],
   "source": [
    "resp = requests.get(\"http://imrad.sire.gov.co:8080/radar/reflectividad.kmz?rand=1587262574681\")\n",
    "kmz = ZipFile(resp.content)\n",
    "kml = kmz.open('doc.kml', 'r').read()\n",
    "d = str(kml, 'utf-8')\n",
    "d"
   ]
  },
  {
   "cell_type": "code",
   "execution_count": 30,
   "metadata": {},
   "outputs": [
    {
     "data": {
      "text/plain": [
       "'<kml xmlns=\"http://earth.google.com/kml/2.2\">\\n <Folder>\\n  <name>1399BOG-Intensity (Horizontal)-Sun Apr 19 12:33:22 2020 GMT</name>\\n  <ExtendedData xmlns:edge=\"http://eecradar.com\">\\n   <edge:Moment>Intensity (Horizontal)</edge:Moment>\\n   <edge:MomentAbbreviation>ZH</edge:MomentAbbreviation>\\n  </ExtendedData>\\n  <lookAt>\\n   <longitude>-74.11397552490234</longitude>\\n   <latitude>4.675168991088867</latitude>\\n  </lookAt>\\n  <GroundOverlay>\\n   <Icon>\\n    <href>1399BOG_ZH_1587299602_1587299667.png</href>\\n   </Icon>\\n   <LatLonBox>\\n    <north>5.217750127612162</north>\\n    <south>4.132579471620416</south>\\n    <east>-73.57319917717719</east>\\n    <west>-74.65475187262749</west>\\n   </LatLonBox>\\n  </GroundOverlay>\\n </Folder>\\n</kml>\\n'"
      ]
     },
     "execution_count": 30,
     "metadata": {},
     "output_type": "execute_result"
    }
   ],
   "source": [
    "from zipfile import ZipFile\n",
    "\n",
    "filename = 'reflectividad.kmz'\n",
    "\n",
    "kmz = ZipFile(filename, 'r')\n",
    "kml = kmz.open('doc.kml', 'r').read()\n",
    "d = str(kml, 'utf-8')\n",
    "d"
   ]
  },
  {
   "cell_type": "code",
   "execution_count": 32,
   "metadata": {},
   "outputs": [
    {
     "ename": "OSError",
     "evalue": "Error reading file '<kml xmlns=\"http://earth.google.com/kml/2.2\">\n <Folder>\n  <name>1399BOG-Intensity (Horizontal)-Sun Apr 19 12:33:22 2020 GMT</name>\n  <ExtendedData xmlns:edge=\"http://eecradar.com\">\n   <edge:Moment>Intensity (Horizontal)</edge:Moment>\n   <edge:MomentAbbreviation>ZH</edge:MomentAbbreviation>\n  </ExtendedData>\n  <lookAt>\n   <longitude>-74.11397552490234</longitude>\n   <latitude>4.675168991088867</latitude>\n  </lookAt>\n  <GroundOverlay>\n   <Icon>\n    <href>1399BOG_ZH_1587299602_1587299667.png</href>\n   </Icon>\n   <LatLonBox>\n    <north>5.217750127612162</north>\n    <south>4.132579471620416</south>\n    <east>-73.57319917717719</east>\n    <west>-74.65475187262749</west>\n   </LatLonBox>\n  </GroundOverlay>\n </Folder>\n</kml>\n': failed to load external entity \"<kml xmlns=\"http://earth.google.com/kml/2.2\">\n <Folder>\n  <name>1399BOG-Intensity (Horizontal)-Sun Apr 19 12:33:22 2020 GMT</name>\n  <ExtendedData xmlns:edge=\"http://eecradar.com\">\n   <edge:Moment>Intensity (Horizontal)</edge:Moment>\n   <edge:MomentAbbreviation>ZH</edge:MomentAbbreviation>\n  </ExtendedData>\n  <lookAt>\n   <longitude>-74.11397552490234</longitude>\n   <latitude>4.675168991088867</latitude>\n  </lookAt>\n  <GroundOverlay>\n   <Icon>\n    <href>1399BOG_ZH_1587299602_1587299667.png</href>\n   </Icon>\n   <LatLonBox>\n    <north>5.217750127612162</north>\n    <south>4.132579471620416</south>\n    <east>-73.57319917717719</east>\n    <west>-74.65475187262749</west>\n   </LatLonBox>\n  </GroundOverlay>\n </Folder>\n</kml>\n\"",
     "output_type": "error",
     "traceback": [
      "\u001b[0;31m---------------------------------------------------------------------------\u001b[0m",
      "\u001b[0;31mOSError\u001b[0m                                   Traceback (most recent call last)",
      "\u001b[0;32m<ipython-input-32-4c10a4d72f1e>\u001b[0m in \u001b[0;36m<module>\u001b[0;34m\u001b[0m\n\u001b[1;32m      1\u001b[0m \u001b[0;32mfrom\u001b[0m \u001b[0mpykml\u001b[0m \u001b[0;32mimport\u001b[0m \u001b[0mparser\u001b[0m\u001b[0;34m\u001b[0m\u001b[0;34m\u001b[0m\u001b[0m\n\u001b[0;32m----> 2\u001b[0;31m \u001b[0mroot\u001b[0m \u001b[0;34m=\u001b[0m \u001b[0mparser\u001b[0m\u001b[0;34m.\u001b[0m\u001b[0mparse\u001b[0m\u001b[0;34m(\u001b[0m\u001b[0md\u001b[0m\u001b[0;34m)\u001b[0m\u001b[0;34m\u001b[0m\u001b[0;34m\u001b[0m\u001b[0m\n\u001b[0m\u001b[1;32m      3\u001b[0m \u001b[0mroot\u001b[0m\u001b[0;34m\u001b[0m\u001b[0;34m\u001b[0m\u001b[0m\n",
      "\u001b[0;32m/mnt/c/Users/gtm14/Documents/Projects/imp_projects/weather_map/weather_map/lib/python3.7/site-packages/pykml/parser.py\u001b[0m in \u001b[0;36mparse\u001b[0;34m(fileobject, schema)\u001b[0m\n\u001b[1;32m     67\u001b[0m         \u001b[0;31m# without validation\u001b[0m\u001b[0;34m\u001b[0m\u001b[0;34m\u001b[0m\u001b[0;34m\u001b[0m\u001b[0m\n\u001b[1;32m     68\u001b[0m         \u001b[0mparser\u001b[0m \u001b[0;34m=\u001b[0m \u001b[0mobjectify\u001b[0m\u001b[0;34m.\u001b[0m\u001b[0mmakeparser\u001b[0m\u001b[0;34m(\u001b[0m\u001b[0mstrip_cdata\u001b[0m\u001b[0;34m=\u001b[0m\u001b[0;32mFalse\u001b[0m\u001b[0;34m)\u001b[0m\u001b[0;34m\u001b[0m\u001b[0;34m\u001b[0m\u001b[0m\n\u001b[0;32m---> 69\u001b[0;31m         \u001b[0;32mreturn\u001b[0m \u001b[0mobjectify\u001b[0m\u001b[0;34m.\u001b[0m\u001b[0mparse\u001b[0m\u001b[0;34m(\u001b[0m\u001b[0mfileobject\u001b[0m\u001b[0;34m,\u001b[0m \u001b[0mparser\u001b[0m\u001b[0;34m=\u001b[0m\u001b[0mparser\u001b[0m\u001b[0;34m)\u001b[0m\u001b[0;34m\u001b[0m\u001b[0;34m\u001b[0m\u001b[0m\n\u001b[0m\u001b[1;32m     70\u001b[0m \u001b[0;34m\u001b[0m\u001b[0m\n\u001b[1;32m     71\u001b[0m \u001b[0;34m\u001b[0m\u001b[0m\n",
      "\u001b[0;32msrc/lxml/objectify.pyx\u001b[0m in \u001b[0;36mlxml.objectify.parse\u001b[0;34m()\u001b[0m\n",
      "\u001b[0;32msrc/lxml/etree.pyx\u001b[0m in \u001b[0;36mlxml.etree.parse\u001b[0;34m()\u001b[0m\n",
      "\u001b[0;32msrc/lxml/parser.pxi\u001b[0m in \u001b[0;36mlxml.etree._parseDocument\u001b[0;34m()\u001b[0m\n",
      "\u001b[0;32msrc/lxml/parser.pxi\u001b[0m in \u001b[0;36mlxml.etree._parseDocumentFromURL\u001b[0;34m()\u001b[0m\n",
      "\u001b[0;32msrc/lxml/parser.pxi\u001b[0m in \u001b[0;36mlxml.etree._parseDocFromFile\u001b[0;34m()\u001b[0m\n",
      "\u001b[0;32msrc/lxml/parser.pxi\u001b[0m in \u001b[0;36mlxml.etree._BaseParser._parseDocFromFile\u001b[0;34m()\u001b[0m\n",
      "\u001b[0;32msrc/lxml/parser.pxi\u001b[0m in \u001b[0;36mlxml.etree._ParserContext._handleParseResultDoc\u001b[0;34m()\u001b[0m\n",
      "\u001b[0;32msrc/lxml/parser.pxi\u001b[0m in \u001b[0;36mlxml.etree._handleParseResult\u001b[0;34m()\u001b[0m\n",
      "\u001b[0;32msrc/lxml/parser.pxi\u001b[0m in \u001b[0;36mlxml.etree._raiseParseError\u001b[0;34m()\u001b[0m\n",
      "\u001b[0;31mOSError\u001b[0m: Error reading file '<kml xmlns=\"http://earth.google.com/kml/2.2\">\n <Folder>\n  <name>1399BOG-Intensity (Horizontal)-Sun Apr 19 12:33:22 2020 GMT</name>\n  <ExtendedData xmlns:edge=\"http://eecradar.com\">\n   <edge:Moment>Intensity (Horizontal)</edge:Moment>\n   <edge:MomentAbbreviation>ZH</edge:MomentAbbreviation>\n  </ExtendedData>\n  <lookAt>\n   <longitude>-74.11397552490234</longitude>\n   <latitude>4.675168991088867</latitude>\n  </lookAt>\n  <GroundOverlay>\n   <Icon>\n    <href>1399BOG_ZH_1587299602_1587299667.png</href>\n   </Icon>\n   <LatLonBox>\n    <north>5.217750127612162</north>\n    <south>4.132579471620416</south>\n    <east>-73.57319917717719</east>\n    <west>-74.65475187262749</west>\n   </LatLonBox>\n  </GroundOverlay>\n </Folder>\n</kml>\n': failed to load external entity \"<kml xmlns=\"http://earth.google.com/kml/2.2\">\n <Folder>\n  <name>1399BOG-Intensity (Horizontal)-Sun Apr 19 12:33:22 2020 GMT</name>\n  <ExtendedData xmlns:edge=\"http://eecradar.com\">\n   <edge:Moment>Intensity (Horizontal)</edge:Moment>\n   <edge:MomentAbbreviation>ZH</edge:MomentAbbreviation>\n  </ExtendedData>\n  <lookAt>\n   <longitude>-74.11397552490234</longitude>\n   <latitude>4.675168991088867</latitude>\n  </lookAt>\n  <GroundOverlay>\n   <Icon>\n    <href>1399BOG_ZH_1587299602_1587299667.png</href>\n   </Icon>\n   <LatLonBox>\n    <north>5.217750127612162</north>\n    <south>4.132579471620416</south>\n    <east>-73.57319917717719</east>\n    <west>-74.65475187262749</west>\n   </LatLonBox>\n  </GroundOverlay>\n </Folder>\n</kml>\n\""
     ]
    }
   ],
   "source": [
    "from pykml import parser\n",
    "root = parser.parse(d)\n",
    "root"
   ]
  },
  {
   "cell_type": "code",
   "execution_count": 40,
   "metadata": {},
   "outputs": [
    {
     "data": {
      "text/plain": [
       "'<kml xmlns=\"http://earth.google.com/kml/2.2\">\\n <Folder>\\n  <name>1399BOG-Intensity (Horizontal)-Sun Apr 19 15:44:37 2020 GMT</name>\\n  <ExtendedData xmlns:edge=\"http://eecradar.com\">\\n   <edge:Moment>Intensity (Horizontal)</edge:Moment>\\n   <edge:MomentAbbreviation>ZH</edge:MomentAbbreviation>\\n  </ExtendedData>\\n  <lookAt>\\n   <longitude>-74.11397552490234</longitude>\\n   <latitude>4.675168991088867</latitude>\\n  </lookAt>\\n  <GroundOverlay>\\n   <Icon>\\n    <href>1399BOG_ZH_1587311077_1587311143.png</href>\\n   </Icon>\\n   <LatLonBox>\\n    <north>5.217750127612162</north>\\n    <south>4.132579471620416</south>\\n    <east>-73.57319917717719</east>\\n    <west>-74.65475187262749</west>\\n   </LatLonBox>\\n  </GroundOverlay>\\n </Folder>\\n</kml>\\n'"
      ]
     },
     "execution_count": 40,
     "metadata": {},
     "output_type": "execute_result"
    }
   ],
   "source": [
    "import zipfile, io\n",
    "resp = requests.get(\"http://imrad.sire.gov.co:8080/radar/reflectividad.kmz?rand=1587262574681\")\n",
    "k = zipfile.ZipFile(io.BytesIO(resp.content))\n",
    "km = k.open('doc.kml', 'r').read()\n",
    "m = str(km, 'utf-8')\n",
    "m"
   ]
  },
  {
   "cell_type": "code",
   "execution_count": 55,
   "metadata": {},
   "outputs": [
    {
     "data": {
      "text/plain": [
       "'<kml xmlns=\"http://earth.google.com/kml/2.2\"> <Folder>  <name>1399BOG-Intensity (Horizontal)-Sun Apr 19 15:44:37 2020 GMT</name>  <ExtendedData xmlns:edge=\"http://eecradar.com\">   <edge:Moment>Intensity (Horizontal)</edge:Moment>   <edge:MomentAbbreviation>ZH</edge:MomentAbbreviation>  </ExtendedData>  <lookAt>   <longitude>-74.11397552490234</longitude>   <latitude>4.675168991088867</latitude>  </lookAt>  <GroundOverlay>   <Icon>    <href>1399BOG_ZH_1587311077_1587311143.png</href>   </Icon>   <LatLonBox>    <north>5.217750127612162</north>    <south>4.132579471620416</south>    <east>-73.57319917717719</east>    <west>-74.65475187262749</west>   </LatLonBox>  </GroundOverlay> </Folder></kml>'"
      ]
     },
     "execution_count": 55,
     "metadata": {},
     "output_type": "execute_result"
    }
   ],
   "source": [
    "n = m.replace('\\n','')\n",
    "n"
   ]
  },
  {
   "cell_type": "code",
   "execution_count": 57,
   "metadata": {},
   "outputs": [
    {
     "data": {
      "text/plain": [
       "<Element '{http://earth.google.com/kml/2.2}kml' at 0x7f126973c228>"
      ]
     },
     "execution_count": 57,
     "metadata": {},
     "output_type": "execute_result"
    }
   ],
   "source": [
    "import xml.etree.ElementTree as ET\n",
    "myroot = ET.fromstring(n)\n",
    "myroot"
   ]
  },
  {
   "cell_type": "code",
   "execution_count": 65,
   "metadata": {},
   "outputs": [
    {
     "data": {
      "text/plain": [
       "OrderedDict([('kml',\n",
       "              OrderedDict([('@xmlns', 'http://earth.google.com/kml/2.2'),\n",
       "                           ('Folder',\n",
       "                            OrderedDict([('name',\n",
       "                                          '1399BOG-Intensity (Horizontal)-Sun Apr 19 15:44:37 2020 GMT'),\n",
       "                                         ('ExtendedData',\n",
       "                                          OrderedDict([('@xmlns:edge',\n",
       "                                                        'http://eecradar.com'),\n",
       "                                                       ('edge:Moment',\n",
       "                                                        'Intensity (Horizontal)'),\n",
       "                                                       ('edge:MomentAbbreviation',\n",
       "                                                        'ZH')])),\n",
       "                                         ('lookAt',\n",
       "                                          OrderedDict([('longitude',\n",
       "                                                        '-74.11397552490234'),\n",
       "                                                       ('latitude',\n",
       "                                                        '4.675168991088867')])),\n",
       "                                         ('GroundOverlay',\n",
       "                                          OrderedDict([('Icon',\n",
       "                                                        OrderedDict([('href',\n",
       "                                                                      '1399BOG_ZH_1587311077_1587311143.png')])),\n",
       "                                                       ('LatLonBox',\n",
       "                                                        OrderedDict([('north',\n",
       "                                                                      '5.217750127612162'),\n",
       "                                                                     ('south',\n",
       "                                                                      '4.132579471620416'),\n",
       "                                                                     ('east',\n",
       "                                                                      '-73.57319917717719'),\n",
       "                                                                     ('west',\n",
       "                                                                      '-74.65475187262749')]))]))]))]))])"
      ]
     },
     "execution_count": 65,
     "metadata": {},
     "output_type": "execute_result"
    }
   ],
   "source": [
    "import xmltodict, json\n",
    "\n",
    "o = xmltodict.parse(n)\n",
    "o"
   ]
  },
  {
   "cell_type": "code",
   "execution_count": 68,
   "metadata": {},
   "outputs": [
    {
     "data": {
      "text/plain": [
       "OrderedDict([('kml',\n",
       "              OrderedDict([('@xmlns', 'http://earth.google.com/kml/2.2'),\n",
       "                           ('Folder',\n",
       "                            OrderedDict([('name',\n",
       "                                          '1399BOG-Intensity (Horizontal)-Sun Apr 19 16:33:59 2020 GMT'),\n",
       "                                         ('ExtendedData',\n",
       "                                          OrderedDict([('@xmlns:edge',\n",
       "                                                        'http://eecradar.com'),\n",
       "                                                       ('edge:Moment',\n",
       "                                                        'Intensity (Horizontal)'),\n",
       "                                                       ('edge:MomentAbbreviation',\n",
       "                                                        'ZH')])),\n",
       "                                         ('lookAt',\n",
       "                                          OrderedDict([('longitude',\n",
       "                                                        '-74.11397552490234'),\n",
       "                                                       ('latitude',\n",
       "                                                        '4.675168991088867')])),\n",
       "                                         ('GroundOverlay',\n",
       "                                          OrderedDict([('Icon',\n",
       "                                                        OrderedDict([('href',\n",
       "                                                                      '1399BOG_ZH_1587314039_1587314103.png')])),\n",
       "                                                       ('LatLonBox',\n",
       "                                                        OrderedDict([('north',\n",
       "                                                                      '5.217750127612162'),\n",
       "                                                                     ('south',\n",
       "                                                                      '4.132579471620416'),\n",
       "                                                                     ('east',\n",
       "                                                                      '-73.57319917717719'),\n",
       "                                                                     ('west',\n",
       "                                                                      '-74.65475187262749')]))]))]))]))])"
      ]
     },
     "execution_count": 68,
     "metadata": {},
     "output_type": "execute_result"
    }
   ],
   "source": [
    "import zipfile, io\n",
    "resp = requests.get(\"http://imrad.sire.gov.co:8080/radar/reflectividad.kmz?rand=1587262574681\")\n",
    "k = zipfile.ZipFile(io.BytesIO(resp.content))\n",
    "km = k.open('doc.kml', 'r').read()\n",
    "o = xmltodict.parse(km)\n",
    "o"
   ]
  }
 ],
 "metadata": {
  "kernelspec": {
   "display_name": "Python 3",
   "language": "python",
   "name": "python3"
  },
  "language_info": {
   "codemirror_mode": {
    "name": "ipython",
    "version": 3
   },
   "file_extension": ".py",
   "mimetype": "text/x-python",
   "name": "python",
   "nbconvert_exporter": "python",
   "pygments_lexer": "ipython3",
   "version": "3.7.3"
  }
 },
 "nbformat": 4,
 "nbformat_minor": 4
}
